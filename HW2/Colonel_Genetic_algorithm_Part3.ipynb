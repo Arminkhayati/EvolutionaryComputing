{
  "nbformat": 4,
  "nbformat_minor": 0,
  "metadata": {
    "colab": {
      "name": "Colonel_Genetic_algorithm_Part2.ipynb",
      "provenance": [],
      "collapsed_sections": []
    },
    "kernelspec": {
      "name": "python3",
      "display_name": "Python 3"
    }
  },
  "cells": [
    {
      "cell_type": "code",
      "metadata": {
        "id": "SncIr6jx4lv3"
      },
      "source": [
        "import random\r\n",
        "import pandas as pd\r\n",
        "import math\r\n",
        "\r\n",
        "def sums(length, total_sum):\r\n",
        "    if length == 1:\r\n",
        "        yield [total_sum,]\r\n",
        "    else:\r\n",
        "        for value in range(total_sum + 1):\r\n",
        "            for permutation in sums(length - 1, total_sum - value):\r\n",
        "                yield [value,] + permutation\r\n",
        "\r\n",
        "def init(battles, soldiers, num_of_pop):\r\n",
        "  all = list(sums(battles,soldiers))\r\n",
        "  return random.sample(all, num_of_pop)\r\n",
        "\r\n",
        "def battle_win_state(battle1, battle2):\r\n",
        "  extra = math.fabs(battle1 - battle2)\r\n",
        "  if battle1 == battle2:\r\n",
        "    return (0, extra)\r\n",
        "  elif battle1 > battle2:\r\n",
        "    return (1, extra)\r\n",
        "  else:\r\n",
        "    return (2, extra)\r\n",
        "\r\n",
        "def colonel_war_simulate(colonel1, colonel2):\r\n",
        "  score1, score2 = 0, 0\r\n",
        "  for i in range(len(colonel1)):\r\n",
        "    extra, win = battle_win_state(colonel1[i], colonel2[i])\r\n",
        "    if win == 0:\r\n",
        "      score1, score2 = score1 + 1, score2 + 1\r\n",
        "    elif win == 1:\r\n",
        "      score1 = score1 + 2\r\n",
        "      colonel1 = redeploy(extra - 1, colonel1, i + 1)\r\n",
        "    else:\r\n",
        "      score2 = score2 + 2\r\n",
        "      colonel2 = redeploy(extra - 1, colonel2, i + 1)\r\n",
        "  return score1, score2\r\n",
        "\r\n",
        "def redeploy(extra, colonel, index):\r\n",
        "  if extra <= 1:\r\n",
        "    return colonel\r\n",
        "  colonel[index - 1] = colonel[index - 1] - extra\r\n",
        "  for i in range(len(colonel) - 1):\r\n",
        "    if extra == 0:\r\n",
        "      break\r\n",
        "    index = 0 if index >= len(colonel) else index\r\n",
        "    amount = math.ceil(R_F * extra)\r\n",
        "    colonel[index] = colonel[index] + amount\r\n",
        "    extra = extra - amount\r\n",
        "    index = index + 1\r\n",
        "  return colonel\r\n",
        "\r\n",
        "def colonel_win_state(colonel1, colonel2):\r\n",
        "  score1, score2 = colonel_war_simulate(colonel1, colonel2)\r\n",
        "  if score1 >= score2:\r\n",
        "    return 1\r\n",
        "  return 2\r\n",
        "\r\n",
        "def fitness_function(chromosome, population):\r\n",
        "  fitness = 0\r\n",
        "  for p in population:\r\n",
        "    if colonel_win_state(chromosome, p) == 1:\r\n",
        "      fitness = fitness + 1\r\n",
        "  return fitness\r\n",
        "\r\n",
        "def _fitness_function(chromosome, population):\r\n",
        "  fitness = 0\r\n",
        "  for i, p in population:\r\n",
        "    if colonel_win_state(chromosome, p) == 1:\r\n",
        "      fitness = fitness + 1\r\n",
        "  return fitness\r\n",
        "\r\n",
        "def selection(num_of_chromosomes, population):\r\n",
        "  current_member = 1\r\n",
        "  parents = []\r\n",
        "  while current_member <= num_of_chromosomes:\r\n",
        "    subsample = random.sample(list(enumerate(population)), TOURNAMENT_BIN)\r\n",
        "    parent = max(subsample, key= lambda x: _fitness_function(x[1], subsample))\r\n",
        "    parents.append(parent)\r\n",
        "    current_member = current_member + 1\r\n",
        "  return parents\r\n",
        "  \r\n",
        "def crossover(parent1, parent2):\r\n",
        "  point = random.randint(1, NUM_OF_BATTLES - 2)\r\n",
        "  child1 = parent2[0:point] + parent1[point:]\r\n",
        "  child2 = parent1[0:point] + parent2[point:]\r\n",
        "  child1 = fix_child(child1)\r\n",
        "  child2 = fix_child(child2)\r\n",
        "  return child1, child2\r\n",
        "\r\n",
        "\r\n",
        "def fix_child(child):\r\n",
        "  genes_sum = sum(child)\r\n",
        "  if genes_sum == NUM_OF_SOLDIERS:\r\n",
        "    return child\r\n",
        "  elif genes_sum < NUM_OF_SOLDIERS:\r\n",
        "    needed = NUM_OF_SOLDIERS - genes_sum\r\n",
        "    while needed > 0:\r\n",
        "      min_index = child.index(min(child))\r\n",
        "      child[min_index] = child[min_index] + 1\r\n",
        "      needed = needed - 1\r\n",
        "  else:\r\n",
        "    extra = genes_sum - NUM_OF_SOLDIERS\r\n",
        "    while extra > 0:\r\n",
        "      max_index = child.index(max(child))\r\n",
        "      child[max_index] = child[max_index] - 1\r\n",
        "      extra = extra - 1\r\n",
        "  return child\r\n",
        "\r\n",
        "def mutation1(child):\r\n",
        "  if random.randint(1,100) <= MUTATION_PROB:\r\n",
        "    idx1 = random.randint(0, NUM_OF_BATTLES - 1)\r\n",
        "    idx2 = random.randint(0, NUM_OF_BATTLES - 1)\r\n",
        "    temp = child[idx1]\r\n",
        "    child[idx1] = child[idx2]\r\n",
        "    child[idx2] = temp\r\n",
        "  return child\r\n",
        "\r\n",
        "def survival_selection(child1, child2, p1_index, p2_index, population):\r\n",
        "  fitness_list = pd.Series([fitness_function(x, population) for x in population])\r\n",
        "  elites_idx = fitness_list.nlargest(NUM_OF_ELITES).index.values.tolist()\r\n",
        "  log(elites_idx[0], fitness_list, population)\r\n",
        "  ch1_fitness, ch2_fitness = fitness_function(child1, population), fitness_function(child2, population)\r\n",
        "  p1_fitness, p2_fitness = fitness_function(population[p1_index], population), fitness_function(population[p2_index], population)\r\n",
        "  if p1_index not in elites_idx or p1_fitness < ch1_fitness:\r\n",
        "    population[p1_index] = child1\r\n",
        "  if p2_index not in elites_idx or p2_fitness < ch2_fitness:\r\n",
        "    population[p2_index] = child2\r\n",
        "  return population\r\n",
        "\r\n",
        "def log(best_fitness_idx, fitness_list, population):\r\n",
        "  best_fitness_log.append(fitness_list[best_fitness_idx])\r\n",
        "  fitness_mean_log.append(fitness_list.mean())\r\n",
        "  best_strategy_log.append(population[best_fitness_idx])\r\n",
        "\r\n",
        "\r\n",
        "def train(iteration, population):\r\n",
        "  while iteration>0:\r\n",
        "    parents = selection(2, population)\r\n",
        "    child1, child2 = crossover(parents[0][1], parents[1][1])\r\n",
        "    child1, child2 = mutation1(child1), mutation1(child2)\r\n",
        "    population = survival_selection(child1, child2, parents[0][0], parents[1][0], population)\r\n",
        "    iteration = iteration - 1\r\n",
        "\r\n",
        "NUM_OF_BATTLES = 4\r\n",
        "NUM_OF_SOLDIERS = 20\r\n",
        "NUM_OF_POPULATION = 50\r\n",
        "TOURNAMENT_BIN = 10\r\n",
        "ELITISM_PROB = 10/100\r\n",
        "NUM_OF_ELITES = int(NUM_OF_POPULATION * ELITISM_PROB)\r\n",
        "MUTATION_PROB = 80\r\n",
        "R_F = 0.5\r\n",
        "best_fitness_log = []\r\n",
        "fitness_mean_log = []\r\n",
        "best_strategy_log = []\r\n",
        "\r\n",
        "population = init(NUM_OF_BATTLES, NUM_OF_SOLDIERS, NUM_OF_POPULATION)\r\n",
        "train(100, population)"
      ],
      "execution_count": null,
      "outputs": []
    },
    {
      "cell_type": "code",
      "metadata": {
        "colab": {
          "base_uri": "https://localhost:8080/",
          "height": 513
        },
        "id": "JhMHeoEn5E_l",
        "outputId": "d0e7758d-d48a-46e9-b755-3bc149a4fbd4"
      },
      "source": [
        "import matplotlib.pyplot as plt\r\n",
        "plt.plot(list(range(len(best_fitness_log))), best_fitness_log)\r\n",
        "plt.show()\r\n",
        "plt.plot(list(range(len(fitness_mean_log))), fitness_mean_log)\r\n",
        "plt.show()"
      ],
      "execution_count": null,
      "outputs": [
        {
          "output_type": "display_data",
          "data": {
            "image/png": "[encoded data removed]",
            "text/plain": [
              "<Figure size 432x288 with 1 Axes>"
            ]
          },
          "metadata": {
            "tags": [],
            "needs_background": "light"
          }
        },
        {
          "output_type": "display_data",
          "data": {
            "image/png": "[encoded data removed]",
            "text/plain": [
              "<Figure size 432x288 with 1 Axes>"
            ]
          },
          "metadata": {
            "tags": [],
            "needs_background": "light"
          }
        }
      ]
    },
    {
      "cell_type": "code",
      "metadata": {
        "colab": {
          "base_uri": "https://localhost:8080/"
        },
        "id": "BYEeziCU5Hne",
        "outputId": "12f65321-d48b-48b0-a9b5-0f6d743b38fa"
      },
      "source": [
        "best_strategy_log"
      ],
      "execution_count": null,
      "outputs": [
        {
          "output_type": "execute_result",
          "data": {
            "text/plain": [
              "[[1, 3, 7, 9],\n",
              " [1, 3, 7, 9],\n",
              " [1, 3, 7, 9],\n",
              " [1, 3, 7, 9],\n",
              " [1, 1, 8, 10],\n",
              " [1, 1, 8, 10],\n",
              " [1, 1, 8, 10],\n",
              " [4, 4, 8, 4],\n",
              " [14, 2, 2, 2],\n",
              " [14, 2, 2, 2],\n",
              " [14, 2, 2, 2],\n",
              " [14, 2, 2, 2],\n",
              " [14, 2, 2, 2],\n",
              " [4, 3, 10, 3],\n",
              " [4, 3, 10, 3],\n",
              " [4, 3, 10, 3],\n",
              " [4, 3, 10, 3],\n",
              " [4, 3, 10, 3],\n",
              " [4, 4, 8, 4],\n",
              " [4, 4, 8, 4],\n",
              " [4, 6, 2, 8],\n",
              " [4, 6, 2, 8],\n",
              " [4, 6, 2, 8],\n",
              " [4, 6, 2, 8],\n",
              " [4, 6, 2, 8],\n",
              " [4, 6, 2, 8],\n",
              " [4, 6, 2, 8],\n",
              " [4, 6, 2, 8],\n",
              " [5, 4, 7, 4],\n",
              " [5, 4, 5, 6],\n",
              " [5, 4, 5, 6],\n",
              " [5, 4, 5, 6],\n",
              " [5, 4, 5, 6],\n",
              " [5, 4, 5, 6],\n",
              " [5, 4, 5, 6],\n",
              " [5, 4, 5, 6],\n",
              " [5, 4, 5, 6],\n",
              " [5, 4, 5, 6],\n",
              " [5, 4, 5, 6],\n",
              " [5, 4, 5, 6]]"
            ]
          },
          "metadata": {
            "tags": []
          },
          "execution_count": 43
        }
      ]
    },
    {
      "cell_type": "code",
      "metadata": {
        "id": "SBMDBrZYDfwq",
        "colab": {
          "base_uri": "https://localhost:8080/",
          "height": 513
        },
        "outputId": "804d3d1d-4ed9-4007-de77-fabc5ce17f01"
      },
      "source": [
        "import random\r\n",
        "import pandas as pd\r\n",
        "import math\r\n",
        "\r\n",
        "def sums(length, total_sum):\r\n",
        "    if length == 1:\r\n",
        "        yield [total_sum,]\r\n",
        "    else:\r\n",
        "        for value in range(total_sum + 1):\r\n",
        "            for permutation in sums(length - 1, total_sum - value):\r\n",
        "                yield [value,] + permutation\r\n",
        "\r\n",
        "def init(battles, soldiers, num_of_pop):\r\n",
        "  all = list(sums(battles,soldiers))\r\n",
        "  return random.sample(all, num_of_pop)\r\n",
        "\r\n",
        "def battle_win_state(battle1, battle2):\r\n",
        "  extra = math.fabs(battle1 - battle2)\r\n",
        "  if battle1 == battle2:\r\n",
        "    return (0, extra)\r\n",
        "  elif battle1 > battle2:\r\n",
        "    return (1, extra)\r\n",
        "  else:\r\n",
        "    return (2, extra)\r\n",
        "\r\n",
        "def colonel_war_simulate(colonel1, colonel2):\r\n",
        "  score1, score2 = 0, 0\r\n",
        "  for i in range(len(colonel1)):\r\n",
        "    extra, win = battle_win_state(colonel1[i], colonel2[i])\r\n",
        "    if win == 0:\r\n",
        "      score1, score2 = score1 + 1, score2 + 1\r\n",
        "    elif win == 1:\r\n",
        "      score1 = score1 + 2\r\n",
        "      colonel1 = redeploy(extra - 1, colonel1, i + 1)\r\n",
        "    else:\r\n",
        "      score2 = score2 + 2\r\n",
        "      colonel2 = redeploy(extra - 1, colonel2, i + 1)\r\n",
        "  return score1, score2\r\n",
        "\r\n",
        "def redeploy(extra, colonel, index):\r\n",
        "  if extra <= 1:\r\n",
        "    return colonel\r\n",
        "  colonel[index - 1] = colonel[index - 1] - extra\r\n",
        "  for i in range(len(colonel) - 1):\r\n",
        "    if extra == 0:\r\n",
        "      break\r\n",
        "    index = 0 if index >= len(colonel) else index\r\n",
        "    amount = math.ceil(R_F * extra)\r\n",
        "    colonel[index] = colonel[index] + amount\r\n",
        "    extra = extra - amount\r\n",
        "    index = index + 1\r\n",
        "  return colonel\r\n",
        "\r\n",
        "def colonel_win_state(colonel1, colonel2):\r\n",
        "  score1, score2 = colonel_war_simulate(colonel1, colonel2)\r\n",
        "  if score1 >= score2:\r\n",
        "    return 1\r\n",
        "  return 2\r\n",
        "\r\n",
        "def fitness_function(chromosome, population):\r\n",
        "  fitness = 0\r\n",
        "  for p in population:\r\n",
        "    if colonel_win_state(chromosome, p) == 1:\r\n",
        "      fitness = fitness + 1\r\n",
        "  return fitness\r\n",
        "\r\n",
        "def _fitness_function(chromosome, population):\r\n",
        "  fitness = 0\r\n",
        "  for i, p in population:\r\n",
        "    if colonel_win_state(chromosome, p) == 1:\r\n",
        "      fitness = fitness + 1\r\n",
        "  return fitness\r\n",
        "\r\n",
        "def selection(num_of_chromosomes, population):\r\n",
        "  current_member = 1\r\n",
        "  parents = []\r\n",
        "  while current_member <= num_of_chromosomes:\r\n",
        "    subsample = random.sample(list(enumerate(population)), TOURNAMENT_BIN)\r\n",
        "    parent = max(subsample, key= lambda x: _fitness_function(x[1], subsample))\r\n",
        "    parents.append(parent)\r\n",
        "    current_member = current_member + 1\r\n",
        "  return parents\r\n",
        "  \r\n",
        "def crossover(parent):\r\n",
        "  point1 = random.randint(0, NUM_OF_BATTLES - 1)\r\n",
        "  point2 = random.randint(0, NUM_OF_BATTLES - 1)\r\n",
        "  child = parent.copy()\r\n",
        "  temp = child[point1]\r\n",
        "  child[point1] = child[point2]\r\n",
        "  child[point2] = temp\r\n",
        "  return child\r\n",
        "\r\n",
        "def mutation(child):\r\n",
        "  if random.randint(1,100) <= MUTATION_PROB:\r\n",
        "    point1 = random.randint(0, NUM_OF_BATTLES - 1)\r\n",
        "    point2 = random.randint(0, NUM_OF_BATTLES - 1)\r\n",
        "    if child[point1] > 0:\r\n",
        "      child[point1] -= 1\r\n",
        "      child[point2] += 1\r\n",
        "  return child\r\n",
        "\r\n",
        "def survival_selection(child1, child2, p1_index, p2_index, population):\r\n",
        "  fitness_list = pd.Series([fitness_function(x, population) for x in population])\r\n",
        "  elites_idx = fitness_list.nlargest(NUM_OF_ELITES).index.values.tolist()\r\n",
        "  log(elites_idx[0], fitness_list, population)\r\n",
        "  ch1_fitness, ch2_fitness = fitness_function(child1, population), fitness_function(child2, population)\r\n",
        "  p1_fitness, p2_fitness = fitness_function(population[p1_index], population), fitness_function(population[p2_index], population)\r\n",
        "  if p1_index not in elites_idx or p1_fitness < ch1_fitness:\r\n",
        "    population[p1_index] = child1\r\n",
        "  if p2_index not in elites_idx or p2_fitness < ch2_fitness:\r\n",
        "    population[p2_index] = child2\r\n",
        "  return population\r\n",
        "\r\n",
        "def log(best_fitness_idx, fitness_list, population):\r\n",
        "  best_fitness_log.append(fitness_list[best_fitness_idx])\r\n",
        "  fitness_mean_log.append(fitness_list.mean())\r\n",
        "  best_strategy_log.append(population[best_fitness_idx])\r\n",
        "\r\n",
        "\r\n",
        "def train(iteration, population):\r\n",
        "  while iteration>0:\r\n",
        "    parents = selection(2, population)\r\n",
        "    child1, child2 = crossover(parents[0][1]), crossover(parents[1][1])\r\n",
        "    child1, child2 = mutation(child1), mutation(child2)\r\n",
        "    population = survival_selection(child1, child2, parents[0][0], parents[1][0], population)\r\n",
        "    iteration = iteration - 1\r\n",
        "\r\n",
        "NUM_OF_BATTLES = 4\r\n",
        "NUM_OF_SOLDIERS = 20\r\n",
        "NUM_OF_POPULATION = 50\r\n",
        "TOURNAMENT_BIN = 10\r\n",
        "ELITISM_PROB = 10/100\r\n",
        "NUM_OF_ELITES = int(NUM_OF_POPULATION * ELITISM_PROB)\r\n",
        "MUTATION_PROB = 80\r\n",
        "R_F = 0.5\r\n",
        "best_fitness_log = []\r\n",
        "fitness_mean_log = []\r\n",
        "best_strategy_log = []\r\n",
        "\r\n",
        "population = init(NUM_OF_BATTLES, NUM_OF_SOLDIERS, NUM_OF_POPULATION)\r\n",
        "train(100, population)\r\n",
        "import matplotlib.pyplot as plt\r\n",
        "plt.plot(list(range(len(best_fitness_log))), best_fitness_log)\r\n",
        "plt.show()\r\n",
        "plt.plot(list(range(len(fitness_mean_log))), fitness_mean_log)\r\n",
        "plt.show()"
      ],
      "execution_count": 3,
      "outputs": [
        {
          "output_type": "display_data",
          "data": {
            "image/png": "[encoded data removed]",
            "text/plain": [
              "<Figure size 432x288 with 1 Axes>"
            ]
          },
          "metadata": {
            "tags": [],
            "needs_background": "light"
          }
        },
        {
          "output_type": "display_data",
          "data": {
            "image/png": "[encoded data removed]",
            "text/plain": [
              "<Figure size 432x288 with 1 Axes>"
            ]
          },
          "metadata": {
            "tags": [],
            "needs_background": "light"
          }
        }
      ]
    },
    {
      "cell_type": "code",
      "metadata": {
        "colab": {
          "base_uri": "https://localhost:8080/"
        },
        "id": "bsYiQLtSLxEA",
        "outputId": "20c025b9-04a3-4872-8dca-7fc63c082f5a"
      },
      "source": [
        "print(best_strategy_log)"
      ],
      "execution_count": 7,
      "outputs": [
        {
          "output_type": "stream",
          "text": [
            "[[10, 3, 5, 2], [10, 3, 5, 2], [10, 3, 5, 2], [10, 3, 5, 2], [10, 3, 5, 2], [5, 6, 2, 7], [5, 6, 3, 6], [5, 6, 3, 6], [5, 6, 2, 7], [5, 6, 2, 7], [5, 6, 2, 7], [5, 6, 2, 7], [5, 6, 2, 7], [5, 7, 6, 2], [5, 6, 2, 7], [5, 6, 2, 7], [5, 7, 6, 2], [5, 7, 6, 2], [5, 7, 6, 2], [5, 7, 6, 2], [5, 7, 6, 2], [5, 7, 6, 2], [5, 7, 6, 2], [10, 3, 5, 2], [10, 3, 5, 2], [10, 3, 5, 2], [10, 3, 5, 2], [10, 3, 5, 2], [10, 3, 5, 2], [10, 3, 5, 2], [10, 3, 5, 2], [10, 3, 5, 2], [10, 3, 5, 2], [10, 3, 5, 2], [10, 3, 5, 2], [7, 5, 3, 5], [7, 5, 3, 5], [10, 3, 5, 2], [7, 5, 3, 5], [10, 3, 5, 2], [10, 3, 5, 2], [5, 7, 3, 5], [5, 7, 3, 5], [5, 7, 3, 5], [5, 7, 3, 5], [5, 7, 3, 5], [5, 7, 3, 5], [5, 7, 3, 5], [5, 7, 3, 5], [7, 5, 3, 5], [7, 5, 3, 5], [7, 5, 3, 5], [7, 5, 3, 5], [5, 6, 2, 7], [5, 6, 2, 7], [5, 6, 2, 7], [7, 5, 3, 5], [7, 5, 3, 5], [7, 5, 3, 5], [7, 5, 3, 5], [7, 5, 3, 5], [7, 5, 3, 5], [7, 5, 3, 5], [3, 2, 10, 5], [3, 2, 10, 5], [3, 2, 10, 5], [3, 2, 10, 5], [3, 2, 10, 5], [3, 2, 10, 5], [3, 2, 10, 5], [3, 2, 10, 5], [3, 2, 10, 5], [3, 2, 10, 5], [3, 2, 10, 5], [3, 2, 10, 5], [3, 2, 10, 5], [3, 2, 10, 5], [3, 2, 10, 5], [3, 2, 10, 5], [3, 2, 10, 5], [3, 2, 10, 5], [3, 2, 10, 5], [3, 2, 10, 5], [7, 5, 3, 5], [7, 5, 3, 5], [7, 5, 3, 5], [7, 5, 3, 5], [7, 5, 3, 5], [7, 5, 3, 5], [7, 5, 3, 5], [7, 5, 3, 5], [7, 5, 3, 5], [1, 11, 1, 7], [1, 11, 1, 7], [1, 11, 1, 7], [4, 2, 3, 11], [4, 2, 3, 11], [4, 2, 3, 11], [4, 2, 3, 11], [4, 2, 3, 11]]\n"
          ],
          "name": "stdout"
        }
      ]
    },
    {
      "cell_type": "code",
      "metadata": {
        "id": "66mauw7SjzYB"
      },
      "source": [
        ""
      ],
      "execution_count": null,
      "outputs": []
    }
  ]
}