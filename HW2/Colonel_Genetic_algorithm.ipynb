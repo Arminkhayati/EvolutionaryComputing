{
  "nbformat": 4,
  "nbformat_minor": 0,
  "metadata": {
    "colab": {
      "name": "Colonel_Genetic_algorithm.ipynb",
      "provenance": [],
      "collapsed_sections": []
    },
    "kernelspec": {
      "name": "python3",
      "display_name": "Python 3"
    }
  },
  "cells": [
    {
      "cell_type": "code",
      "metadata": {
        "id": "2HyzuR5s2AHF"
      },
      "source": [
        "# Number of Battels = 4 ,\r\n",
        "# Number of Soldiers = 20 ,\r\n",
        "# Population = 50\r\n",
        "# Fitness =  Total number of wining with all individuals in population\r\n",
        "# Scores : Win = 2 points  && tie = 1 point && loss = 0\r\n",
        "\r\n",
        "# Selection = Tournament (Page 85 book) and SUS\r\n",
        "\r\n",
        "# Crossover = \r\n",
        "\r\n",
        "# Mutation = Swap and Inversion Mutation (Page 107) and Scramble Mutation (Page 108)\r\n",
        "\r\n",
        "# Survival Selection : Elitism (Page 89 book)\r\n",
        "# In essence a trace is kept of the\r\n",
        "# current fittest member, and it is always kept in the population. Thus if it is\r\n",
        "# chosen in the group to be replaced, and none of the offspring being inserted\r\n",
        "# into the population has equal or better fitness, then it is kept and one of the\r\n",
        "# offspring is discarded\r\n",
        "\r\n"
      ],
      "execution_count": null,
      "outputs": []
    },
    {
      "cell_type": "code",
      "metadata": {
        "id": "NKaQy5D2xHDj"
      },
      "source": [
        "import random\r\n",
        "import pandas as pd\r\n",
        "\r\n",
        "def sums(length, total_sum):\r\n",
        "    if length == 1:\r\n",
        "        yield [total_sum,]\r\n",
        "    else:\r\n",
        "        for value in range(total_sum + 1):\r\n",
        "            for permutation in sums(length - 1, total_sum - value):\r\n",
        "                yield [value,] + permutation\r\n",
        "\r\n",
        "def init(battles, soldiers, num_of_pop):\r\n",
        "  all = list(sums(battles,soldiers))\r\n",
        "  return random.sample(all, num_of_pop)\r\n",
        "\r\n",
        "def battle_win_state(battle1, battle2):\r\n",
        "  if battle1 == battle2:\r\n",
        "    return 0\r\n",
        "  elif battle1 > battle2:\r\n",
        "    return 1\r\n",
        "  else:\r\n",
        "    return 2\r\n",
        "\r\n",
        "def colonel_war_simulate(colonel1, colonel2):\r\n",
        "  score1, score2 = 0, 0\r\n",
        "  for i in range(len(colonel1)):\r\n",
        "    win = battle_win_state(colonel1[i], colonel2[i])\r\n",
        "    if win == 0:\r\n",
        "      score1, score2 = score1 + 1, score2 + 1\r\n",
        "    elif win == 1:\r\n",
        "      score1 = score1 + 2\r\n",
        "    else:\r\n",
        "      score2 = score2 + 2\r\n",
        "  return score1, score2\r\n",
        "\r\n",
        "def colonel_win_state(colonel1, colonel2):\r\n",
        "  score1, score2 = colonel_war_simulate(colonel1, colonel2)\r\n",
        "  if score1 >= score2:\r\n",
        "    return 1\r\n",
        "  return 2\r\n",
        "\r\n",
        "def fitness_function(chromosome, population):\r\n",
        "  fitness = 0\r\n",
        "  for p in population:\r\n",
        "    if colonel_win_state(chromosome, p) == 1:\r\n",
        "      fitness = fitness + 1\r\n",
        "  return fitness\r\n",
        "\r\n",
        "def _fitness_function(chromosome, population):\r\n",
        "  fitness = 0\r\n",
        "  for i, p in population:\r\n",
        "    if colonel_win_state(chromosome, p) == 1:\r\n",
        "      fitness = fitness + 1\r\n",
        "  return fitness\r\n",
        "\r\n",
        "def selection(num_of_chromosomes, population):\r\n",
        "  current_member = 1\r\n",
        "  parents = []\r\n",
        "  while current_member <= num_of_chromosomes:\r\n",
        "    subsample = random.sample(list(enumerate(population)), TOURNAMENT_BIN)\r\n",
        "    parent = max(subsample, key= lambda x: _fitness_function(x[1], subsample))\r\n",
        "    parents.append(parent)\r\n",
        "    current_member = current_member + 1\r\n",
        "  return parents\r\n",
        "\r\n",
        "def selection_sus(num_of_chromosomes, population):\r\n",
        "  current_member = 1\r\n",
        "  parents = []\r\n",
        "  step = 1 / num_of_chromosomes\r\n",
        "  fitness_proportions = fitness_proportionate(population)\r\n",
        "  start = random.random()\r\n",
        "  selected = 0\r\n",
        "  while current_member <= num_of_chromosomes:\r\n",
        "    for i in range(len(population)):\r\n",
        "      if start >= fitness_proportions[i]:\r\n",
        "        selected = i\r\n",
        "      else:\r\n",
        "        break\r\n",
        "    parents.append((selected, population[selected]))\r\n",
        "    start = (start + step) if (start + step) <= 1 else ((start + step) - 1)\r\n",
        "  return parents\r\n",
        "\r\n",
        "def fitness_proportionate(population):\r\n",
        "  fitness_proportions = list(map(lambda x: fitness_function(x, population), population))\r\n",
        "  sum_of_fitnesses = sum(fitness_proportions)\r\n",
        "  fitness_proportions[0] = fitness_proportions[0] / sum_of_fitnesses\r\n",
        "  for i in range(1, len(fitness_proportions)):\r\n",
        "    fitness_proportions[i] = fitness_proportions[i] / sum_of_fitnesses\r\n",
        "    fitness_proportions[i] = fitness_proportions[i-1] + fitness_proportions[i]\r\n",
        "  return fitness_proportions\r\n",
        "\r\n",
        "def crossover(parent1, parent2):\r\n",
        "  point = random.randint(1, NUM_OF_BATTLES - 2)\r\n",
        "  child1 = parent2[0:point] + parent1[point:]\r\n",
        "  child2 = parent1[0:point] + parent2[point:]\r\n",
        "  child1 = fix_child(child1)\r\n",
        "  child2 = fix_child(child2)\r\n",
        "  return child1, child2\r\n",
        "\r\n",
        "\r\n",
        "def fix_child(child):\r\n",
        "  genes_sum = sum(child)\r\n",
        "  if genes_sum == NUM_OF_SOLDIERS:\r\n",
        "    return child\r\n",
        "  elif genes_sum < NUM_OF_SOLDIERS:\r\n",
        "    needed = NUM_OF_SOLDIERS - genes_sum\r\n",
        "    while needed > 0:\r\n",
        "      min_index = child.index(min(child))\r\n",
        "      child[min_index] = child[min_index] + 1\r\n",
        "      needed = needed - 1\r\n",
        "  else:\r\n",
        "    extra = genes_sum - NUM_OF_SOLDIERS\r\n",
        "    while extra > 0:\r\n",
        "      max_index = child.index(max(child))\r\n",
        "      child[max_index] = child[max_index] - 1\r\n",
        "      extra = extra - 1\r\n",
        "  return child\r\n",
        "\r\n",
        "def mutation1(child):\r\n",
        "  if random.randint(1,100) <= MUTATION_PROB:\r\n",
        "    idx1 = random.randint(0, NUM_OF_BATTLES - 1)\r\n",
        "    idx2 = random.randint(0, NUM_OF_BATTLES - 1)\r\n",
        "    temp = child[idx1]\r\n",
        "    child[idx1] = child[idx2]\r\n",
        "    child[idx2] = temp\r\n",
        "  return child\r\n",
        "\r\n",
        "def mutation2(child):\r\n",
        "  if random.randint(1,100) <= MUTATION_PROB:\r\n",
        "    idx1 = random.randint(0, NUM_OF_BATTLES - 2)\r\n",
        "    idx2 = random.randint(idx1, NUM_OF_BATTLES - 1)\r\n",
        "    child = child[0: idx1] + list(reversed(child[idx1 : idx2 + 1])) + child[idx2 + 1:]\r\n",
        "  return child\r\n",
        "\r\n",
        "def survival_selection(child1, child2, p1_index, p2_index, population):\r\n",
        "  fitness_list = pd.Series([fitness_function(x, population) for x in population])\r\n",
        "  elites_idx = fitness_list.nlargest(NUM_OF_ELITES).index.values.tolist()\r\n",
        "  log(elites_idx[0], fitness_list, population)\r\n",
        "  ch1_fitness, ch2_fitness = fitness_function(child1, population), fitness_function(child2, population)\r\n",
        "  p1_fitness, p2_fitness = fitness_function(population[p1_index], population), fitness_function(population[p2_index], population)\r\n",
        "  if p1_index not in elites_idx or p1_fitness < ch1_fitness:\r\n",
        "    population[p1_index] = child1\r\n",
        "  if p2_index not in elites_idx or p2_fitness < ch2_fitness:\r\n",
        "    population[p2_index] = child2\r\n",
        "  return population\r\n",
        "\r\n",
        "def log(best_fitness_idx, fitness_list, population):\r\n",
        "  best_fitness_log.append(fitness_list[best_fitness_idx])\r\n",
        "  fitness_mean_log.append(fitness_list.mean())\r\n",
        "  best_strategy_log.append(population[best_fitness_idx])\r\n",
        "\r\n",
        "\r\n",
        "def train(iteration, population):\r\n",
        "  while iteration>0:\r\n",
        "    parents = selection(2, population)\r\n",
        "    child1, child2 = crossover(parents[0][1], parents[1][1])\r\n",
        "    child1, child2 = mutation1(child1), mutation1(child2)\r\n",
        "    population = survival_selection(child1, child2, parents[0][0], parents[1][0], population)\r\n",
        "    iteration = iteration - 1\r\n",
        "\r\n",
        "NUM_OF_BATTLES = 5\r\n",
        "NUM_OF_SOLDIERS = 20\r\n",
        "NUM_OF_POPULATION = 50\r\n",
        "TOURNAMENT_BIN = 10\r\n",
        "ELITISM_PROB = 10/100\r\n",
        "NUM_OF_ELITES = int(NUM_OF_POPULATION * ELITISM_PROB)\r\n",
        "MUTATION_PROB = 80\r\n",
        "\r\n",
        "best_fitness_log = []\r\n",
        "fitness_mean_log = []\r\n",
        "best_strategy_log = []\r\n",
        "\r\n",
        "population1 = init(NUM_OF_BATTLES, NUM_OF_SOLDIERS, NUM_OF_POPULATION)\r\n",
        "train(30, population1.copy())\r\n",
        "# colonel_win_state([3, 1, 8, 8], [3, 1, 9, 11])\r\n",
        "# fitness_function([3, 1, 8, 8], population)\r\n",
        "# selection1(2, population, 2)"
      ],
      "execution_count": 18,
      "outputs": []
    },
    {
      "cell_type": "code",
      "metadata": {
        "colab": {
          "base_uri": "https://localhost:8080/",
          "height": 513
        },
        "id": "G1AuICBZ8Ogz",
        "outputId": "a132df0f-a136-4596-dffa-c01a91d09cff"
      },
      "source": [
        "import matplotlib.pyplot as plt\r\n",
        "plt.plot(list(range(len(best_fitness_log))), best_fitness_log)\r\n",
        "plt.show()\r\n",
        "plt.plot(list(range(len(fitness_mean_log))), fitness_mean_log)\r\n",
        "plt.show()"
      ],
      "execution_count": 19,
      "outputs": [
        {
          "output_type": "display_data",
          "data": {
            "image/png": "[encoded data removed]",
            "text/plain": [
              "<Figure size 432x288 with 1 Axes>"
            ]
          },
          "metadata": {
            "tags": [],
            "needs_background": "light"
          }
        },
        {
          "output_type": "display_data",
          "data": {
            "image/png": "[encoded data removed]",
            "text/plain": [
              "<Figure size 432x288 with 1 Axes>"
            ]
          },
          "metadata": {
            "tags": [],
            "needs_background": "light"
          }
        }
      ]
    },
    {
      "cell_type": "code",
      "metadata": {
        "colab": {
          "base_uri": "https://localhost:8080/"
        },
        "id": "yZWI5U8vn96-",
        "outputId": "b1c1ee72-6823-4aa6-ce56-f35025edb0b5"
      },
      "source": [
        "print(best_strategy_log)"
      ],
      "execution_count": 21,
      "outputs": [
        {
          "output_type": "stream",
          "text": [
            "[[8, 2, 2, 5, 3], [3, 3, 2, 7, 5], [3, 5, 5, 4, 3], [3, 5, 5, 4, 3], [3, 5, 5, 4, 3], [3, 0, 5, 6, 6], [3, 0, 5, 6, 6], [3, 3, 2, 7, 5], [3, 0, 5, 6, 6], [3, 0, 5, 6, 6], [3, 0, 5, 6, 6], [3, 0, 5, 6, 6], [3, 0, 5, 6, 6], [3, 0, 5, 6, 6], [4, 4, 5, 4, 3], [4, 4, 5, 4, 3], [4, 4, 5, 4, 3], [4, 4, 5, 4, 3], [4, 4, 5, 4, 3], [4, 4, 5, 4, 3], [4, 4, 5, 4, 3], [4, 4, 5, 4, 3], [4, 4, 5, 4, 3], [4, 4, 5, 4, 3], [4, 4, 5, 4, 3], [4, 4, 5, 4, 3], [4, 4, 5, 4, 3], [4, 4, 4, 4, 4], [4, 4, 4, 4, 4], [4, 4, 4, 4, 4]]\n"
          ],
          "name": "stdout"
        }
      ]
    },
    {
      "cell_type": "code",
      "metadata": {
        "colab": {
          "base_uri": "https://localhost:8080/",
          "height": 513
        },
        "id": "ZqRSf_HtBfXm",
        "outputId": "654412ea-b6d8-4468-db0a-935275fca0f0"
      },
      "source": [
        "best_fitness_log = []\r\n",
        "fitness_mean_log = []\r\n",
        "best_strategy_log = []\r\n",
        "\r\n",
        "def train2(iteration, population):\r\n",
        "  while iteration>0:\r\n",
        "    parents = selection(2, population)\r\n",
        "    child1, child2 = crossover(parents[0][1], parents[1][1])\r\n",
        "    child1, child2 = mutation2(child1), mutation2(child2)\r\n",
        "    population = survival_selection(child1, child2, parents[0][0], parents[1][0], population)\r\n",
        "    iteration = iteration - 1\r\n",
        "\r\n",
        "train2(30, population1.copy())\r\n",
        "plt.plot(list(range(len(best_fitness_log))), best_fitness_log)\r\n",
        "plt.show()\r\n",
        "plt.plot(list(range(len(fitness_mean_log))), fitness_mean_log)\r\n",
        "plt.show()"
      ],
      "execution_count": 22,
      "outputs": [
        {
          "output_type": "display_data",
          "data": {
            "image/png": "[encoded data removed]",
            "text/plain": [
              "<Figure size 432x288 with 1 Axes>"
            ]
          },
          "metadata": {
            "tags": [],
            "needs_background": "light"
          }
        },
        {
          "output_type": "display_data",
          "data": {
            "image/png": "[encoded data removed]",
            "text/plain": [
              "<Figure size 432x288 with 1 Axes>"
            ]
          },
          "metadata": {
            "tags": [],
            "needs_background": "light"
          }
        }
      ]
    },
    {
      "cell_type": "code",
      "metadata": {
        "colab": {
          "base_uri": "https://localhost:8080/"
        },
        "id": "ug_S5fptoxFX",
        "outputId": "960c0839-1613-4bb6-f727-07037b18fa44"
      },
      "source": [
        "print(best_strategy_log)"
      ],
      "execution_count": 24,
      "outputs": [
        {
          "output_type": "stream",
          "text": [
            "[[8, 2, 2, 5, 3], [4, 3, 5, 4, 4], [4, 3, 5, 4, 4], [4, 3, 5, 4, 4], [4, 3, 5, 4, 4], [4, 3, 5, 4, 4], [4, 3, 5, 4, 4], [4, 3, 5, 5, 3], [4, 3, 5, 5, 3], [4, 3, 5, 5, 3], [4, 3, 5, 5, 3], [4, 4, 5, 4, 3], [4, 4, 5, 4, 3], [4, 4, 5, 4, 3], [4, 4, 5, 4, 3], [4, 4, 5, 4, 3], [4, 4, 5, 4, 3], [4, 3, 5, 5, 3], [4, 3, 5, 5, 3], [4, 3, 5, 5, 3], [4, 3, 5, 5, 3], [4, 4, 5, 4, 3], [4, 4, 5, 4, 3], [4, 4, 5, 4, 3], [5, 5, 5, 0, 5], [5, 5, 5, 0, 5], [5, 5, 5, 0, 5], [5, 5, 5, 0, 5], [5, 5, 5, 0, 5], [4, 4, 5, 4, 3]]\n"
          ],
          "name": "stdout"
        }
      ]
    },
    {
      "cell_type": "code",
      "metadata": {
        "id": "4BwnSV0tHm5p",
        "colab": {
          "base_uri": "https://localhost:8080/",
          "height": 513
        },
        "outputId": "e492a17f-dc93-4eab-f8b3-b0cfd3e627a7"
      },
      "source": [
        "best_fitness_log = []\r\n",
        "fitness_mean_log = []\r\n",
        "best_strategy_log = []\r\n",
        "\r\n",
        "def train3(iteration, population):\r\n",
        "  while iteration>0:\r\n",
        "    parents = selection_sus(2, population)\r\n",
        "    child1, child2 = crossover(parents[0][1], parents[1][1])\r\n",
        "    child1, child2 = mutation1(child1), mutation1(child2)\r\n",
        "    population = survival_selection(child1, child2, parents[0][0], parents[1][0], population)\r\n",
        "    iteration = iteration - 1\r\n",
        "\r\n",
        "train2(30, population1.copy())\r\n",
        "plt.plot(list(range(len(best_fitness_log))), best_fitness_log)\r\n",
        "plt.show()\r\n",
        "plt.plot(list(range(len(fitness_mean_log))), fitness_mean_log)\r\n",
        "plt.show()"
      ],
      "execution_count": 25,
      "outputs": [
        {
          "output_type": "display_data",
          "data": {
            "image/png": "[encoded data removed]",
            "text/plain": [
              "<Figure size 432x288 with 1 Axes>"
            ]
          },
          "metadata": {
            "tags": [],
            "needs_background": "light"
          }
        },
        {
          "output_type": "display_data",
          "data": {
            "image/png": "[encoded data removed]",
            "text/plain": [
              "<Figure size 432x288 with 1 Axes>"
            ]
          },
          "metadata": {
            "tags": [],
            "needs_background": "light"
          }
        }
      ]
    },
    {
      "cell_type": "code",
      "metadata": {
        "id": "bIVNrfB9zdhq",
        "colab": {
          "base_uri": "https://localhost:8080/"
        },
        "outputId": "eef8b2f8-5e35-4995-c3c7-43d5e2417422"
      },
      "source": [
        "print(best_strategy_log)"
      ],
      "execution_count": 26,
      "outputs": [
        {
          "output_type": "stream",
          "text": [
            "[[8, 2, 2, 5, 3], [8, 2, 2, 5, 3], [3, 2, 2, 7, 6], [3, 2, 2, 7, 6], [3, 2, 2, 7, 6], [6, 2, 5, 4, 3], [6, 2, 5, 4, 3], [6, 2, 5, 4, 3], [3, 2, 2, 7, 6], [4, 4, 5, 4, 3], [4, 4, 5, 4, 3], [4, 4, 5, 4, 3], [4, 4, 5, 4, 3], [4, 4, 5, 4, 3], [4, 4, 5, 4, 3], [4, 4, 5, 4, 3], [4, 4, 5, 4, 3], [4, 4, 5, 4, 3], [4, 4, 5, 4, 3], [4, 4, 5, 4, 3], [4, 4, 5, 4, 3], [4, 4, 5, 4, 3], [4, 4, 5, 4, 3], [4, 5, 2, 7, 2], [4, 5, 2, 7, 2], [4, 5, 2, 7, 2], [4, 5, 2, 7, 2], [4, 5, 2, 7, 2], [4, 5, 2, 7, 2], [4, 5, 2, 7, 2]]\n"
          ],
          "name": "stdout"
        }
      ]
    },
    {
      "cell_type": "code",
      "metadata": {
        "id": "J29lYvAApko_"
      },
      "source": [
        "import random\r\n",
        "import pandas as pd\r\n",
        "import math\r\n",
        "\r\n",
        "def sums(length, total_sum):\r\n",
        "    if length == 1:\r\n",
        "        yield [total_sum,]\r\n",
        "    else:\r\n",
        "        for value in range(total_sum + 1):\r\n",
        "            for permutation in sums(length - 1, total_sum - value):\r\n",
        "                yield [value,] + permutation\r\n",
        "\r\n",
        "def init(battles, soldiers, num_of_pop):\r\n",
        "  all = list(sums(battles,soldiers))\r\n",
        "  return random.sample(all, num_of_pop)\r\n",
        "\r\n",
        "def battle_win_state(battle1, battle2):\r\n",
        "  extra = math.fabs(battle1 - battle2)\r\n",
        "  if battle1 == battle2:\r\n",
        "    return (0, extra)\r\n",
        "  elif battle1 > battle2:\r\n",
        "    return (1, extra)\r\n",
        "  else:\r\n",
        "    return (2, extra)\r\n",
        "\r\n",
        "def colonel_war_simulate(colonel1, colonel2):\r\n",
        "  score1, score2 = 0, 0\r\n",
        "  for i in range(len(colonel1)):\r\n",
        "    extra, win = battle_win_state(colonel1[i], colonel2[i])\r\n",
        "    if win == 0:\r\n",
        "      score1, score2 = score1 + 1, score2 + 1\r\n",
        "    elif win == 1:\r\n",
        "      score1 = score1 + 2\r\n",
        "      colonel1 = redeploy(extra - 1, colonel1, i + 1)\r\n",
        "    else:\r\n",
        "      score2 = score2 + 2\r\n",
        "      colonel2 = redeploy(extra - 1, colonel2, i + 1)\r\n",
        "  return score1, score2\r\n",
        "\r\n",
        "def redeploy(extra, colonel, index):\r\n",
        "  if extra <= 1:\r\n",
        "    return colonel\r\n",
        "  colonel[index - 1] = colonel[index - 1] - extra\r\n",
        "  for i in range(len(colonel) - 1):\r\n",
        "    if extra == 0:\r\n",
        "      break\r\n",
        "    index = 0 if index >= len(colonel) else index\r\n",
        "    amount = math.ceil(R_F * extra)\r\n",
        "    colonel[index] = colonel[index] + amount\r\n",
        "    extra = extra - amount\r\n",
        "    index = index + 1\r\n",
        "  return colonel\r\n",
        "\r\n",
        "def colonel_win_state(colonel1, colonel2):\r\n",
        "  score1, score2 = colonel_war_simulate(colonel1, colonel2)\r\n",
        "  if score1 >= score2:\r\n",
        "    return 1\r\n",
        "  return 2\r\n",
        "\r\n",
        "def fitness_function(chromosome, population):\r\n",
        "  fitness = 0\r\n",
        "  for p in population:\r\n",
        "    if colonel_win_state(chromosome, p) == 1:\r\n",
        "      fitness = fitness + 1\r\n",
        "  return fitness\r\n",
        "\r\n",
        "def _fitness_function(chromosome, population):\r\n",
        "  fitness = 0\r\n",
        "  for i, p in population:\r\n",
        "    if colonel_win_state(chromosome, p) == 1:\r\n",
        "      fitness = fitness + 1\r\n",
        "  return fitness\r\n",
        "\r\n",
        "def selection(num_of_chromosomes, population):\r\n",
        "  current_member = 1\r\n",
        "  parents = []\r\n",
        "  while current_member <= num_of_chromosomes:\r\n",
        "    subsample = random.sample(list(enumerate(population)), TOURNAMENT_BIN)\r\n",
        "    parent = max(subsample, key= lambda x: _fitness_function(x[1], subsample))\r\n",
        "    parents.append(parent)\r\n",
        "    current_member = current_member + 1\r\n",
        "  return parents\r\n",
        "  \r\n",
        "def crossover(parent1, parent2):\r\n",
        "  point = random.randint(1, NUM_OF_BATTLES - 2)\r\n",
        "  child1 = parent2[0:point] + parent1[point:]\r\n",
        "  child2 = parent1[0:point] + parent2[point:]\r\n",
        "  child1 = fix_child(child1)\r\n",
        "  child2 = fix_child(child2)\r\n",
        "  return child1, child2\r\n",
        "\r\n",
        "\r\n",
        "def fix_child(child):\r\n",
        "  genes_sum = sum(child)\r\n",
        "  if genes_sum == NUM_OF_SOLDIERS:\r\n",
        "    return child\r\n",
        "  elif genes_sum < NUM_OF_SOLDIERS:\r\n",
        "    needed = NUM_OF_SOLDIERS - genes_sum\r\n",
        "    while needed > 0:\r\n",
        "      min_index = child.index(min(child))\r\n",
        "      child[min_index] = child[min_index] + 1\r\n",
        "      needed = needed - 1\r\n",
        "  else:\r\n",
        "    extra = genes_sum - NUM_OF_SOLDIERS\r\n",
        "    while extra > 0:\r\n",
        "      max_index = child.index(max(child))\r\n",
        "      child[max_index] = child[max_index] - 1\r\n",
        "      extra = extra - 1\r\n",
        "  return child\r\n",
        "\r\n",
        "def mutation1(child):\r\n",
        "  if random.randint(1,100) <= MUTATION_PROB:\r\n",
        "    idx1 = random.randint(0, NUM_OF_BATTLES - 1)\r\n",
        "    idx2 = random.randint(0, NUM_OF_BATTLES - 1)\r\n",
        "    temp = child[idx1]\r\n",
        "    child[idx1] = child[idx2]\r\n",
        "    child[idx2] = temp\r\n",
        "  return child\r\n",
        "\r\n",
        "def survival_selection(child1, child2, p1_index, p2_index, population):\r\n",
        "  fitness_list = pd.Series([fitness_function(x, population) for x in population])\r\n",
        "  elites_idx = fitness_list.nlargest(NUM_OF_ELITES).index.values.tolist()\r\n",
        "  log(elites_idx[0], fitness_list, population)\r\n",
        "  ch1_fitness, ch2_fitness = fitness_function(child1, population), fitness_function(child2, population)\r\n",
        "  p1_fitness, p2_fitness = fitness_function(population[p1_index], population), fitness_function(population[p2_index], population)\r\n",
        "  if p1_index not in elites_idx or p1_fitness < ch1_fitness:\r\n",
        "    population[p1_index] = child1\r\n",
        "  if p2_index not in elites_idx or p2_fitness < ch2_fitness:\r\n",
        "    population[p2_index] = child2\r\n",
        "  return population\r\n",
        "\r\n",
        "def log(best_fitness_idx, fitness_list, population):\r\n",
        "  best_fitness_log.append(fitness_list[best_fitness_idx])\r\n",
        "  fitness_mean_log.append(fitness_list.mean())\r\n",
        "  best_strategy_log.append(population[best_fitness_idx])\r\n",
        "\r\n",
        "\r\n",
        "def train(iteration, population):\r\n",
        "  while iteration>0:\r\n",
        "    parents = selection(2, population)\r\n",
        "    child1, child2 = crossover(parents[0][1], parents[1][1])\r\n",
        "    child1, child2 = mutation1(child1), mutation1(child2)\r\n",
        "    population = survival_selection(child1, child2, parents[0][0], parents[1][0], population)\r\n",
        "    iteration = iteration - 1\r\n",
        "\r\n",
        "NUM_OF_BATTLES = 4\r\n",
        "NUM_OF_SOLDIERS = 20\r\n",
        "NUM_OF_POPULATION = 50\r\n",
        "TOURNAMENT_BIN = 10\r\n",
        "ELITISM_PROB = 10/100\r\n",
        "NUM_OF_ELITES = int(NUM_OF_POPULATION * ELITISM_PROB)\r\n",
        "MUTATION_PROB = 80\r\n",
        "R_F = 0.5\r\n",
        "best_fitness_log = []\r\n",
        "fitness_mean_log = []\r\n",
        "best_strategy_log = []\r\n",
        "\r\n",
        "population = init(NUM_OF_BATTLES, NUM_OF_SOLDIERS, NUM_OF_POPULATION)\r\n",
        "train(30, population1.copy())"
      ],
      "execution_count": 27,
      "outputs": []
    },
    {
      "cell_type": "code",
      "metadata": {
        "colab": {
          "base_uri": "https://localhost:8080/",
          "height": 513
        },
        "id": "RfvFJ5abpwJA",
        "outputId": "b41db25d-54c7-4912-ed89-3adf6996ce77"
      },
      "source": [
        "plt.plot(list(range(len(best_fitness_log))), best_fitness_log)\r\n",
        "plt.show()\r\n",
        "plt.plot(list(range(len(fitness_mean_log))), fitness_mean_log)\r\n",
        "plt.show()"
      ],
      "execution_count": 28,
      "outputs": [
        {
          "output_type": "display_data",
          "data": {
            "image/png": "[encoded data removed]",
            "text/plain": [
              "<Figure size 432x288 with 1 Axes>"
            ]
          },
          "metadata": {
            "tags": [],
            "needs_background": "light"
          }
        },
        {
          "output_type": "display_data",
          "data": {
            "image/png": "[encoded data removed]",
            "text/plain": [
              "<Figure size 432x288 with 1 Axes>"
            ]
          },
          "metadata": {
            "tags": [],
            "needs_background": "light"
          }
        }
      ]
    },
    {
      "cell_type": "code",
      "metadata": {
        "colab": {
          "base_uri": "https://localhost:8080/"
        },
        "id": "1ECOipK5py1-",
        "outputId": "68394c4a-526e-48ca-e48b-566b23cd3ff9"
      },
      "source": [
        "print(best_strategy_log)"
      ],
      "execution_count": 29,
      "outputs": [
        {
          "output_type": "stream",
          "text": [
            "[[4, 1, 2, 3, 10], [4, 1, 2, 3, 10], [4, 1, 2, 3, 10], [4, 1, 2, 3, 10], [4, 1, 2, 3, 10], [4, 1, 2, 3, 10], [4, 1, 2, 3, 10], [3, 7, 5, 3, 2], [3, 7, 5, 3, 2], [3, 7, 5, 3, 2], [3, 7, 5, 3, 2], [3, 7, 5, 3, 2], [3, 7, 5, 3, 2], [3, 7, 5, 3, 2], [3, 7, 5, 3, 2], [4, 5, 2, 3, 6], [4, 5, 2, 3, 6], [4, 4, 5, 3, 4], [4, 4, 5, 3, 4], [4, 4, 5, 3, 4], [4, 4, 5, 3, 4], [4, 4, 5, 3, 4], [4, 4, 5, 3, 4], [4, 4, 5, 3, 4], [4, 4, 5, 3, 4], [4, 4, 5, 3, 4], [4, 4, 5, 3, 4], [4, 4, 5, 3, 4], [4, 5, 2, 3, 6], [4, 5, 2, 3, 6]]\n"
          ],
          "name": "stdout"
        }
      ]
    },
    {
      "cell_type": "code",
      "metadata": {
        "id": "a65_CTcUqZxq"
      },
      "source": [
        ""
      ],
      "execution_count": null,
      "outputs": []
    }
  ]
}