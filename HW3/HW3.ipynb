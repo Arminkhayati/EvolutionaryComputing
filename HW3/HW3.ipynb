{
 "cells": [
  {
   "cell_type": "code",
   "execution_count": 19,
   "metadata": {},
   "outputs": [],
   "source": [
    "from math import sqrt, exp, log, floor\n",
    "from random import gauss, randint, random\n",
    "from copy import deepcopy, copy\n",
    "import numpy as np\n",
    "\n",
    "class Subsystem:\n",
    "    def __init__(self, index):\n",
    "        self.index = index\n",
    "        self.__init_params()\n",
    "    \n",
    "    def __init_params(self):\n",
    "        self.beta = 1.5\n",
    "        self.t1 = 1 / sqrt(2 * 5)\n",
    "        self.t2 = 1 / sqrt( 2 * sqrt(5))\n",
    "        self.n = randint(1, 5) # generate random integer for n_i\n",
    "        self.r = random()       # generate random float between 0 and 1 for r_i\n",
    "        self.sigma = 1          # generate random value for sigma\n",
    "        self.sigman = 1\n",
    "        self.r_mutation_rate = 90\n",
    "        self.n_mutation_rate = 70\n",
    "        \n",
    "        if self.index == 0:\n",
    "            self.alpha = 2.330E-5\n",
    "            self.wv2 = 1\n",
    "            self.w = 7\n",
    "        elif self.index == 1:\n",
    "            self.alpha = 1.450E-5\n",
    "            self.wv2 = 2\n",
    "            self.w = 8\n",
    "        elif self.index == 2:\n",
    "            self.alpha = 0.541E-5\n",
    "            self.wv2 = 3\n",
    "            self.w = 8\n",
    "        elif self.index == 3:\n",
    "            self.alpha = 8.050E-5\n",
    "            self.wv2 = 4\n",
    "            self.w = 6\n",
    "        elif self.index == 4:\n",
    "            self.alpha = 1.950E-5\n",
    "            self.wv2 = 2\n",
    "            self.w = 9\n",
    "            \n",
    "    def update(self, random_num):\n",
    "        '''Mutate r_i'''\n",
    "        if randint(0,100) < self.r_mutation_rate:\n",
    "            power =  (self.t1 * random_num) + (self.t2 * gauss(0, 1))\n",
    "            new_sigma = self.sigma * exp(power)\n",
    "            # A boundary rule is applied to prevent standard deviations very close to zero.\n",
    "            new_sigma = new_sigma if new_sigma > 0.1E-4 else 0.1E-4\n",
    "            new_r = self.r + (new_sigma * gauss(0, 1))\n",
    "            if new_r >= 0 and new_r <= 1:\n",
    "                self.r = new_r\n",
    "                self.sigma = new_sigma\n",
    "        '''Mutate n_i'''\n",
    "        if randint(0,100) < self.n_mutation_rate:\n",
    "            power =  (self.t1 * random_num) + (self.t2 * gauss(0, 1))\n",
    "            new_sigman = self.sigman * exp(power)\n",
    "            new_sigman = new_sigman if new_sigman > 0.1E-4 else 0.1E-4\n",
    "            new_n = self.n + floor(new_sigman * gauss(0, 1))\n",
    "            if new_n > 0:\n",
    "                self.n = new_n\n",
    "                self.sigman = new_sigman\n",
    "#             if randint(0,1) == 0:\n",
    "#                 if self.n - 1 > 0:\n",
    "#                     self.n -= 1\n",
    "#             else:\n",
    "#                 self.n += 1\n",
    "\n",
    "class System():\n",
    "    \n",
    "    def  __init__(self):\n",
    "        self.subsystems = []\n",
    "        self.V = 110\n",
    "        self.W = 200\n",
    "        self.C = 175\n",
    "        self.num = 5 # Number of subsystems\n",
    "        self.__create_subsystems()\n",
    "    \n",
    "    def __create_subsystems(self):\n",
    "        for i in range(self.num):\n",
    "            self.subsystems.append(Subsystem(i))\n",
    "    \n",
    "    def update(self):\n",
    "        random_num = gauss(0, 1)\n",
    "        for i in range(len(self.subsystems)):\n",
    "            self.subsystems[i].update(random_num)\n",
    "\n",
    "            \n",
    "def g1(system):\n",
    "    res = 0\n",
    "    for subsys in system.subsystems:\n",
    "        res += subsys.wv2 * (subsys.n ** 2)\n",
    "    return res - system.V <= 0\n",
    "\n",
    "def g2(system):\n",
    "    res = 0\n",
    "    for subsys in system.subsystems:\n",
    "        temp = subsys.alpha * ((-1000 / log(subsys.r)) ** subsys.beta)\n",
    "        res += temp * subsys.n + exp(0.25 * subsys.n)\n",
    "    return res - system.C <= 0\n",
    "\n",
    "def g3(system):\n",
    "    res = 0\n",
    "    for subsys in system.subsystems:\n",
    "        res += subsys.w * subsys.n * exp(0.25 * subsys.n)\n",
    "    return res - system.W <= 0\n",
    "\n",
    "def subsys_reliability(system):\n",
    "    R = []\n",
    "    for subsys in system.subsystems:\n",
    "        temp = 1 - ((1 - subsys.r) ** subsys.n)\n",
    "        R.append(temp)\n",
    "    return R\n",
    "\n",
    "def fitness_func_complex(system):\n",
    "    if g1(system) and g2(system) and g3(system):\n",
    "        R = subsys_reliability(system)\n",
    "        fitness = ((R[0]*R[1]) + (R[2]*R[3]) + (R[0]*R[3]*R[4])+\n",
    "                    (R[1]*R[2]*R[4]) - (R[0]*R[1]*R[2]*R[3]) - (R[0]*R[1]*R[2]*R[4])-\n",
    "                    (R[0]*R[1]*R[3]*R[4]) - (R[0]*R[2]*R[3]*R[4]) - (R[1]*R[2]*R[3]*R[4])+\n",
    "                    (2*R[0]*R[1]*R[2]*R[3]*R[4]))\n",
    "        return fitness\n",
    "    else:\n",
    "        return 0\n",
    "\n",
    "def fitness_func_series(system):\n",
    "    if g1(system) and g2(system) and g3(system):\n",
    "        R = subsys_reliability(system)\n",
    "        fitness = 1\n",
    "        for r in R:\n",
    "            fitness *= r\n",
    "        return fitness\n",
    "    else:\n",
    "        return 0\n",
    "\n",
    "\n",
    "def init_population(size):\n",
    "    population = []\n",
    "    while len(population) < size:\n",
    "        system = System()\n",
    "        if g1(system) and g2(system) and g3(system):\n",
    "            population.append(system)\n",
    "        else:\n",
    "            continue\n",
    "    return population\n",
    "\n",
    "def select(population):\n",
    "    index = randint(0, len(population) - 1)\n",
    "    return deepcopy(population[index])\n",
    "\n",
    "def generate_childs(population, size):\n",
    "    childs = []\n",
    "    while len(childs) < size:\n",
    "        system = select(population)\n",
    "        system.update()\n",
    "        childs.append(system)\n",
    "    return childs\n",
    "\n",
    "def fit_complex(population):\n",
    "    epochs = 200\n",
    "    size = len(population) * 7\n",
    "    for i in range(epochs):\n",
    "        childs = generate_childs(population, size)\n",
    "        childs_fitness = list(map(fitness_func_complex, childs))\n",
    "        sorted_indexes = np.array(childs_fitness).argsort()[::-1]\n",
    "        mean_fit_log.append(np.mean(np.array(childs_fitness)[sorted_indexes[:len(population)]]))\n",
    "        best_fit_log.append(childs_fitness[sorted_indexes[0]])\n",
    "        population = np.array(childs)[sorted_indexes[:len(population)]]\n",
    "        \n"
   ]
  },
  {
   "cell_type": "code",
   "execution_count": 8,
   "metadata": {},
   "outputs": [
    {
     "data": {
      "image/png": "[encoded data removed]",
      "text/plain": [
       "<Figure size 432x288 with 1 Axes>"
      ]
     },
     "metadata": {
      "needs_background": "light"
     },
     "output_type": "display_data"
    }
   ],
   "source": [
    "best_fit_log = []\n",
    "mean_fit_log =[]\n",
    "population = init_population(100)\n",
    "fit_complex(population)\n",
    "\n",
    "\n",
    "import matplotlib.pyplot as plt\n",
    "plt.plot(list(range(len(best_fit_log))), best_fit_log)\n",
    "plt.show()"
   ]
  },
  {
   "cell_type": "code",
   "execution_count": 9,
   "metadata": {},
   "outputs": [
    {
     "data": {
      "image/png": "[encoded data removed]",
      "text/plain": [
       "<Figure size 432x288 with 1 Axes>"
      ]
     },
     "metadata": {
      "needs_background": "light"
     },
     "output_type": "display_data"
    }
   ],
   "source": [
    "plt.plot(list(range(len(mean_fit_log))), mean_fit_log)\n",
    "plt.show()"
   ]
  },
  {
   "cell_type": "code",
   "execution_count": 38,
   "metadata": {},
   "outputs": [],
   "source": [
    "def fit_series(population):\n",
    "    epochs = 200\n",
    "    size = len(population) * 7\n",
    "    for i in range(epochs):\n",
    "        childs = generate_childs(population, size)\n",
    "        childs_fitness = list(map(fitness_func_series, childs))\n",
    "        sorted_indexes = np.array(childs_fitness).argsort()[::-1]\n",
    "        mean_fit_log.append(np.mean(np.array(childs_fitness)[sorted_indexes[:len(population)]]))\n",
    "        best_fit_log.append(childs_fitness[sorted_indexes[0]])\n",
    "        population = np.array(childs)[sorted_indexes[:len(population)]]\n",
    "        \n",
    "best_fit_log = []\n",
    "mean_fit_log =[]\n",
    "population = init_population(100)\n",
    "fit_series(population)"
   ]
  },
  {
   "cell_type": "code",
   "execution_count": 39,
   "metadata": {},
   "outputs": [
    {
     "data": {
      "image/png": "[encoded data removed]",
      "text/plain": [
       "<Figure size 432x288 with 1 Axes>"
      ]
     },
     "metadata": {
      "needs_background": "light"
     },
     "output_type": "display_data"
    }
   ],
   "source": [
    "import matplotlib.pyplot as plt\n",
    "plt.plot(list(range(len(best_fit_log))), best_fit_log)\n",
    "plt.show()"
   ]
  },
  {
   "cell_type": "code",
   "execution_count": 40,
   "metadata": {},
   "outputs": [
    {
     "data": {
      "image/png": "[encoded data removed]",
      "text/plain": [
       "<Figure size 432x288 with 1 Axes>"
      ]
     },
     "metadata": {
      "needs_background": "light"
     },
     "output_type": "display_data"
    }
   ],
   "source": [
    "plt.plot(list(range(len(mean_fit_log))), mean_fit_log)\n",
    "plt.show()"
   ]
  },
  {
   "cell_type": "code",
   "execution_count": null,
   "metadata": {},
   "outputs": [],
   "source": []
  }
 ],
 "metadata": {
  "kernelspec": {
   "display_name": "Python 3",
   "language": "python",
   "name": "python3"
  },
  "language_info": {
   "codemirror_mode": {
    "name": "ipython",
    "version": 3
   },
   "file_extension": ".py",
   "mimetype": "text/x-python",
   "name": "python",
   "nbconvert_exporter": "python",
   "pygments_lexer": "ipython3",
   "version": "3.8.5"
  }
 },
 "nbformat": 4,
 "nbformat_minor": 4
}
